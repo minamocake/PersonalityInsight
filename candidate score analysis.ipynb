{
 "cells": [
  {
   "cell_type": "code",
   "execution_count": 2,
   "metadata": {},
   "outputs": [],
   "source": [
    "import requests\n",
    "import json\n",
    "import os\n",
    "from pathlib import Path\n",
    "import subprocess\n",
    "import pandas as pd"
   ]
  },
  {
   "cell_type": "code",
   "execution_count": 3,
   "metadata": {},
   "outputs": [],
   "source": [
    "base_path = Path.cwd()\n",
    "path = base_path.joinpath('Speech.wav')"
   ]
  },
  {
   "cell_type": "code",
   "execution_count": 4,
   "metadata": {},
   "outputs": [],
   "source": [
    "headers_1 = {\n",
    "    'Content-Type': 'audio/wav',\n",
    "}\n",
    "headers_2 = {\n",
    "    'Content-Type': 'text/plain;charset=utf-8',\n",
    "    'Accept': 'application/json',\n",
    "}\n",
    "data = open(path, 'rb').read()"
   ]
  },
  {
   "cell_type": "code",
   "execution_count": 5,
   "metadata": {},
   "outputs": [],
   "source": [
    "response_1 = requests.post('https://gateway-tok.watsonplatform.net/speech-to-text/api/v1/recognize', \n",
    "                         headers=headers_1, \n",
    "                         data=data, \n",
    "                         auth=('apikey', 'x3kgo0uxCd9vCb6lfe-2031oW7l33NTq-lSH2bqiLx-u'))"
   ]
  },
  {
   "cell_type": "code",
   "execution_count": 6,
   "metadata": {},
   "outputs": [],
   "source": [
    "res_json = response_1.json()\n",
    "transcript = res_json['results'][0]['alternatives'][0]['transcript']"
   ]
  },
  {
   "cell_type": "code",
   "execution_count": 7,
   "metadata": {},
   "outputs": [],
   "source": [
    "response = requests.post('https://gateway-tok.watsonplatform.net/personality-insights/api//v3/profile?version=2017-10-13', \n",
    "                         headers=headers_2, \n",
    "                         data=transcript,\n",
    "                         auth=('apikey', 'cANkh3hpgMlNHLNDECHTQPAymQusz7BZEPsCX_yF-pcT'))"
   ]
  },
  {
   "cell_type": "code",
   "execution_count": 8,
   "metadata": {},
   "outputs": [],
   "source": [
    "personality_json = response.json()"
   ]
  },
  {
   "cell_type": "code",
   "execution_count": 9,
   "metadata": {},
   "outputs": [],
   "source": [
    "def json2df(personality_json):\n",
    "    df = pd.DataFrame(columns = ['name','percentile'])\n",
    "    for trait in personality_json['personality']:\n",
    "        df = df.append({'name': trait['name'], 'percentile': trait['percentile']}, \n",
    "                       ignore_index=True)\n",
    "    return df"
   ]
  },
  {
   "cell_type": "code",
   "execution_count": 10,
   "metadata": {},
   "outputs": [],
   "source": [
    "df = json2df(personality_json)\n",
    "df.to_csv('personality_trait.csv', index = False)"
   ]
  },
  {
   "cell_type": "code",
   "execution_count": 11,
   "metadata": {},
   "outputs": [
    {
     "data": {
      "text/plain": [
       "[{'trait_id': 'big5_openness',\n",
       "  'name': 'Openness',\n",
       "  'category': 'personality',\n",
       "  'percentile': 0.9910971643984652,\n",
       "  'significant': True,\n",
       "  'children': [{'trait_id': 'facet_adventurousness',\n",
       "    'name': 'Adventurousness',\n",
       "    'category': 'personality',\n",
       "    'percentile': 0.9350252383257429,\n",
       "    'significant': True},\n",
       "   {'trait_id': 'facet_artistic_interests',\n",
       "    'name': 'Artistic interests',\n",
       "    'category': 'personality',\n",
       "    'percentile': 0.9499986043113442,\n",
       "    'significant': True},\n",
       "   {'trait_id': 'facet_emotionality',\n",
       "    'name': 'Emotionality',\n",
       "    'category': 'personality',\n",
       "    'percentile': 0.9971074014189292,\n",
       "    'significant': True},\n",
       "   {'trait_id': 'facet_imagination',\n",
       "    'name': 'Imagination',\n",
       "    'category': 'personality',\n",
       "    'percentile': 0.7955918640468698,\n",
       "    'significant': True},\n",
       "   {'trait_id': 'facet_intellect',\n",
       "    'name': 'Intellect',\n",
       "    'category': 'personality',\n",
       "    'percentile': 0.9974909173758082,\n",
       "    'significant': True},\n",
       "   {'trait_id': 'facet_liberalism',\n",
       "    'name': 'Authority-challenging',\n",
       "    'category': 'personality',\n",
       "    'percentile': 0.9943121694974129,\n",
       "    'significant': True}]},\n",
       " {'trait_id': 'big5_conscientiousness',\n",
       "  'name': 'Conscientiousness',\n",
       "  'category': 'personality',\n",
       "  'percentile': 0.27694257514588017,\n",
       "  'significant': True,\n",
       "  'children': [{'trait_id': 'facet_achievement_striving',\n",
       "    'name': 'Achievement striving',\n",
       "    'category': 'personality',\n",
       "    'percentile': 0.8730238740326735,\n",
       "    'significant': True},\n",
       "   {'trait_id': 'facet_cautiousness',\n",
       "    'name': 'Cautiousness',\n",
       "    'category': 'personality',\n",
       "    'percentile': 0.6125992849215277,\n",
       "    'significant': True},\n",
       "   {'trait_id': 'facet_dutifulness',\n",
       "    'name': 'Dutifulness',\n",
       "    'category': 'personality',\n",
       "    'percentile': 0.8488562351620281,\n",
       "    'significant': True},\n",
       "   {'trait_id': 'facet_orderliness',\n",
       "    'name': 'Orderliness',\n",
       "    'category': 'personality',\n",
       "    'percentile': 0.0002008869409448888,\n",
       "    'significant': True},\n",
       "   {'trait_id': 'facet_self_discipline',\n",
       "    'name': 'Self-discipline',\n",
       "    'category': 'personality',\n",
       "    'percentile': 0.292468229458989,\n",
       "    'significant': True},\n",
       "   {'trait_id': 'facet_self_efficacy',\n",
       "    'name': 'Self-efficacy',\n",
       "    'category': 'personality',\n",
       "    'percentile': 0.4945977216233226,\n",
       "    'significant': True}]},\n",
       " {'trait_id': 'big5_extraversion',\n",
       "  'name': 'Extraversion',\n",
       "  'category': 'personality',\n",
       "  'percentile': 0.7198909279973084,\n",
       "  'significant': True,\n",
       "  'children': [{'trait_id': 'facet_activity_level',\n",
       "    'name': 'Activity level',\n",
       "    'category': 'personality',\n",
       "    'percentile': 0.9196960041777397,\n",
       "    'significant': True},\n",
       "   {'trait_id': 'facet_assertiveness',\n",
       "    'name': 'Assertiveness',\n",
       "    'category': 'personality',\n",
       "    'percentile': 0.6623522300753191,\n",
       "    'significant': True},\n",
       "   {'trait_id': 'facet_cheerfulness',\n",
       "    'name': 'Cheerfulness',\n",
       "    'category': 'personality',\n",
       "    'percentile': 0.5075697622420648,\n",
       "    'significant': True},\n",
       "   {'trait_id': 'facet_excitement_seeking',\n",
       "    'name': 'Excitement-seeking',\n",
       "    'category': 'personality',\n",
       "    'percentile': 0.3734836081177929,\n",
       "    'significant': True},\n",
       "   {'trait_id': 'facet_friendliness',\n",
       "    'name': 'Outgoing',\n",
       "    'category': 'personality',\n",
       "    'percentile': 0.11843281567304598,\n",
       "    'significant': True},\n",
       "   {'trait_id': 'facet_gregariousness',\n",
       "    'name': 'Gregariousness',\n",
       "    'category': 'personality',\n",
       "    'percentile': 0.014344264870622847,\n",
       "    'significant': True}]},\n",
       " {'trait_id': 'big5_agreeableness',\n",
       "  'name': 'Agreeableness',\n",
       "  'category': 'personality',\n",
       "  'percentile': 0.9065742698105963,\n",
       "  'significant': True,\n",
       "  'children': [{'trait_id': 'facet_altruism',\n",
       "    'name': 'Altruism',\n",
       "    'category': 'personality',\n",
       "    'percentile': 0.9926978401567574,\n",
       "    'significant': True},\n",
       "   {'trait_id': 'facet_cooperation',\n",
       "    'name': 'Cooperation',\n",
       "    'category': 'personality',\n",
       "    'percentile': 0.9273896887123658,\n",
       "    'significant': True},\n",
       "   {'trait_id': 'facet_modesty',\n",
       "    'name': 'Modesty',\n",
       "    'category': 'personality',\n",
       "    'percentile': 0.4682625544962434,\n",
       "    'significant': True},\n",
       "   {'trait_id': 'facet_morality',\n",
       "    'name': 'Uncompromising',\n",
       "    'category': 'personality',\n",
       "    'percentile': 0.9839873828747789,\n",
       "    'significant': True},\n",
       "   {'trait_id': 'facet_sympathy',\n",
       "    'name': 'Sympathy',\n",
       "    'category': 'personality',\n",
       "    'percentile': 0.997703169405634,\n",
       "    'significant': True},\n",
       "   {'trait_id': 'facet_trust',\n",
       "    'name': 'Trust',\n",
       "    'category': 'personality',\n",
       "    'percentile': 0.8778569198551381,\n",
       "    'significant': True}]},\n",
       " {'trait_id': 'big5_neuroticism',\n",
       "  'name': 'Emotional range',\n",
       "  'category': 'personality',\n",
       "  'percentile': 0.09886381100219105,\n",
       "  'significant': True,\n",
       "  'children': [{'trait_id': 'facet_anger',\n",
       "    'name': 'Fiery',\n",
       "    'category': 'personality',\n",
       "    'percentile': 0.23873138525143678,\n",
       "    'significant': True},\n",
       "   {'trait_id': 'facet_anxiety',\n",
       "    'name': 'Prone to worry',\n",
       "    'category': 'personality',\n",
       "    'percentile': 0.626861625154098,\n",
       "    'significant': True},\n",
       "   {'trait_id': 'facet_depression',\n",
       "    'name': 'Melancholy',\n",
       "    'category': 'personality',\n",
       "    'percentile': 0.7230134217707693,\n",
       "    'significant': True},\n",
       "   {'trait_id': 'facet_immoderation',\n",
       "    'name': 'Immoderation',\n",
       "    'category': 'personality',\n",
       "    'percentile': 0.7957029349355111,\n",
       "    'significant': True},\n",
       "   {'trait_id': 'facet_self_consciousness',\n",
       "    'name': 'Self-consciousness',\n",
       "    'category': 'personality',\n",
       "    'percentile': 0.7739627167999961,\n",
       "    'significant': True},\n",
       "   {'trait_id': 'facet_vulnerability',\n",
       "    'name': 'Susceptible to stress',\n",
       "    'category': 'personality',\n",
       "    'percentile': 0.8204868323126782,\n",
       "    'significant': True}]}]"
      ]
     },
     "execution_count": 11,
     "metadata": {},
     "output_type": "execute_result"
    }
   ],
   "source": [
    "personality_json['personality']"
   ]
  },
  {
   "cell_type": "code",
   "execution_count": null,
   "metadata": {},
   "outputs": [],
   "source": []
  },
  {
   "cell_type": "code",
   "execution_count": null,
   "metadata": {},
   "outputs": [],
   "source": []
  },
  {
   "cell_type": "code",
   "execution_count": null,
   "metadata": {},
   "outputs": [],
   "source": []
  },
  {
   "cell_type": "code",
   "execution_count": null,
   "metadata": {},
   "outputs": [],
   "source": []
  },
  {
   "cell_type": "code",
   "execution_count": null,
   "metadata": {},
   "outputs": [],
   "source": []
  },
  {
   "cell_type": "code",
   "execution_count": null,
   "metadata": {},
   "outputs": [],
   "source": []
  },
  {
   "cell_type": "code",
   "execution_count": null,
   "metadata": {},
   "outputs": [],
   "source": []
  },
  {
   "cell_type": "code",
   "execution_count": null,
   "metadata": {},
   "outputs": [],
   "source": []
  },
  {
   "cell_type": "code",
   "execution_count": null,
   "metadata": {},
   "outputs": [],
   "source": []
  },
  {
   "cell_type": "code",
   "execution_count": null,
   "metadata": {},
   "outputs": [],
   "source": []
  },
  {
   "cell_type": "markdown",
   "metadata": {},
   "source": [
    "### Brutal Force Method (Control Yourself) "
   ]
  },
  {
   "cell_type": "code",
   "execution_count": 12,
   "metadata": {},
   "outputs": [],
   "source": [
    "res = subprocess.check_output(['ls', '-l'])"
   ]
  },
  {
   "cell_type": "code",
   "execution_count": 13,
   "metadata": {},
   "outputs": [
    {
     "data": {
      "text/plain": [
       "b'total 14752\\n-rw-r--r--@ 1 i300898  staff      389 Jun 26 19:14 Result of candidate score\\n-rw-r--r--@ 1 i300898  staff  6883696 Jun 14 00:43 Speech.wav\\n-rw-r--r--  1 i300898  staff     1329 Jun 26 19:09 Untitled.ipynb\\n-rw-r--r--@ 1 i300898  staff   632374 Jun 14 01:15 audioclip-1560442499-39047.mp4\\n-rw-r--r--@ 1 i300898  staff    13050 Jun 26 19:52 candidate score analysis.ipynb\\n-rw-r--r--  1 i300898  staff      183 Jun 27 14:53 personality_trait.csv\\n-rw-r--r--@ 1 i300898  staff      151 Jun 14 01:15 transcript.txt\\n'"
      ]
     },
     "execution_count": 13,
     "metadata": {},
     "output_type": "execute_result"
    }
   ],
   "source": [
    "res"
   ]
  },
  {
   "cell_type": "code",
   "execution_count": null,
   "metadata": {},
   "outputs": [],
   "source": []
  },
  {
   "cell_type": "code",
   "execution_count": null,
   "metadata": {},
   "outputs": [],
   "source": []
  }
 ],
 "metadata": {
  "kernelspec": {
   "display_name": "Python3-TensorFlow",
   "language": "python",
   "name": "py366_tf"
  },
  "language_info": {
   "codemirror_mode": {
    "name": "ipython",
    "version": 3
   },
   "file_extension": ".py",
   "mimetype": "text/x-python",
   "name": "python",
   "nbconvert_exporter": "python",
   "pygments_lexer": "ipython3",
   "version": "3.6.8"
  }
 },
 "nbformat": 4,
 "nbformat_minor": 2
}
